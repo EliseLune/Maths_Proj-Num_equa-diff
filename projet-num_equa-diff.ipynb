{
 "cells": [
  {
   "cell_type": "markdown",
   "metadata": {},
   "source": [
    "# Projet numérique - Equation différentielle\n",
    "## Jia FU & Elise LEI"
   ]
  },
  {
   "cell_type": "code",
   "execution_count": null,
   "metadata": {},
   "outputs": [],
   "source": [
    "import numpy as np\n",
    "import matplotlib.pyplot as plt\n",
    "from scipy import optimize\n",
    "from math import log"
   ]
  },
  {
   "cell_type": "code",
   "execution_count": null,
   "metadata": {},
   "outputs": [],
   "source": [
    "alpha=1\n",
    "beta=1\n",
    "delta=2\n",
    "gamma=1\n",
    "\n",
    "def f(x1,x2):\n",
    "    return (np.array([x1*(alpha-beta*x2),-x2*(gamma-delta*x1)]))\n",
    "\n",
    "def H(x1,x2):\n",
    "    return delta*x1-gamma*np.log(x1)+beta*x2-alpha*np.log(x2)"
   ]
  },
  {
   "cell_type": "markdown",
   "metadata": {},
   "source": [
    "### Question 1\n",
    "> Donner une interprétation physique à chaque terme de la dynamique.  \n",
    "> Montrer qu'il existe deux points d'équilibre $(0,0)$ et $\\overline{x} \\in (\\mathbb{R}_+^*)^2$. Que peut-on dire de leur stabilité à ce stade ?"
   ]
  },
  {
   "cell_type": "markdown",
   "metadata": {},
   "source": [
    "##### Interprétation physique\n",
    "Nous avons les équations suivantes :\n",
    "$$\\begin{cases}\n",
    "    \\dot{x}_1 = x_1(\\alpha - \\beta x_2)\\\\\n",
    "    \\dot{x}_2 = -x_2(\\gamma - \\delta x_1)\n",
    "\\end{cases} \\text{ avec } \\begin{cases}\n",
    "    x_1 \\geq 0 \\text{ : nombre de proies}\\\\\n",
    "    x_2 \\geq 0 \\text{ : nombre de prédateurs}\\\\\n",
    "    \\alpha, \\beta, \\gamma, \\delta \\in \\mathbb{R}_+^*\n",
    "\\end{cases}$$\n",
    "\n",
    "Dans le cas des proies, on écrit :\n",
    "$$\\begin{aligned}\n",
    "    \\forall t \\geq 0,\\; \\dot{x}_1(t) &= \\alpha x_1 - \\beta x_2 x_1\\\\\n",
    "    &\\approx \\dfrac{x_1(t+dt)-x_1(t)}{dt}\n",
    "\\end{aligned}$$\n",
    "où $dt$ est un petit intervalle de temps.\n",
    "\n",
    "Ainsi $\\alpha x_1$ représente le nombre de proies mises au monde par unité de temps, donc $\\alpha$ est le __nombre de nouveaux-nés par individu et unité de temps__.<br />\n",
    "De la même manière, $\\beta x_2 x_1$ représente le nombre de décès dus aux prédateurs, donc directement proportionnel à la population de ceux-ci. Ainsi, $\\beta$ est le ___coefficient___ __reliant la population de prédateurs et  la probabilité d'être dévoré par un prédateur pour un individu pendant une unité de temps__.\n",
    "\n",
    "Pour les prédateurs, le taux de fécondité dépend directement de l'abondance de leur nourriture, ie. de la population de proie, et ils meurent en général de cause naturelle.  \n",
    "Donc $\\gamma$ représente la __probabilité qu'a un individu de décéder pendant une unité de temps__, et $\\delta$ est le ___coefficient___ __reliant la population de proies et le nombre de nouveaux-nés par individu et unité de temps__."
   ]
  },
  {
   "cell_type": "markdown",
   "metadata": {
    "tags": []
   },
   "source": [
    "##### Points d'équilibre\n",
    "On peut écrire $x = (x_1, x_2) \\in \\mathbb{R}_+^2$.  \n",
    "Alors :\n",
    "$$\\dot{x} = (\\dot{x}_1, \\dot{x}_2) = f(t,x_1,x_2) = \\big( x_1 (\\alpha - \\beta x_2), -x_2(\\gamma - \\delta x_1) \\big)$$\n",
    "Ainsi, on cherche les points de $\\mathbb{R}_+^2$ qui annulent $f$.\n",
    "\n",
    "On a le système :\n",
    "$$\\begin{cases}\n",
    "    x_1 (\\alpha - \\beta x_2) = 0\\\\\n",
    "    -x_2(\\gamma - \\delta x_1) = 0\n",
    "\\end{cases}$$\n",
    "\n",
    "Si $x_1 = 0$, alors $\\gamma x_2 = 0 \\iff x_2 = 0$.  \n",
    "Donc $(0, 0)$ est un point d'équilibre.\n",
    "\n",
    "Sinon, on a :\n",
    "$$\\begin{cases}\n",
    "    \\alpha - \\beta x_2 = 0\\\\\n",
    "    \\gamma - \\delta x_1 = 0\n",
    "\\end{cases} \\iff \\begin{cases}\n",
    "    x_1 = \\frac{\\gamma}{\\delta} >0\\\\\n",
    "    x_2 = \\frac{\\alpha}{\\beta} >0\n",
    "\\end{cases}$$\n",
    "\n",
    "D'où $(0, 0)$ et $\\overline{x} = \\left( \\frac{\\gamma}{\\delta}, \\frac{\\alpha}{\\beta} \\right)$ sont des _points d'équilibre_."
   ]
  },
  {
   "cell_type": "markdown",
   "metadata": {},
   "source": [
    "##### Stabilité\n",
    "La jacobienne de $f$ en un point $x = (x_1, x_2)$ s'écrit :\n",
    "$$J_f(x) = \\begin{pmatrix}\n",
    "    \\alpha - \\beta x_2 & -\\beta x_1\\\\\n",
    "    \\delta x_2 & \\delta x_1 - \\gamma\n",
    "\\end{pmatrix}$$\n",
    "\n",
    "Alors :\n",
    "$$J_f(0) = \\begin{pmatrix}\n",
    "    \\alpha & 0\\\\\n",
    "    0 & -\\gamma\n",
    "\\end{pmatrix} \\quad ; \\quad J_f(\\bar{x}) = \\begin{pmatrix}\n",
    "    0 & -\\frac{\\beta \\gamma}{\\delta}\\\\\n",
    "    \\frac{\\alpha \\delta}{\\beta} & 0\n",
    "\\end{pmatrix}$$\n",
    "\n",
    "Ainsi, $(0, 0)$ est un point d'équilibre instable ($\\alpha,\\gamma >0$).  \n",
    "$J_f(\\bar{x})$ admet $i\\sqrt{\\alpha\\gamma}$ et $-i\\sqrt{\\alpha\\gamma}$ comme valeurs propres, à parties réelles nulles, donc on ne peut encore rien dire ..."
   ]
  },
  {
   "cell_type": "markdown",
   "metadata": {},
   "source": [
    "### Question 2\n",
    "> A l'aide des fonctions `meshgrid` et `quiver`, visualiser graphiquement le champ de vecteurs. Intuiter le comportement des solutions. On pourra aussi utiliser `streamplot` pour visualiser le portrait de phase."
   ]
  },
  {
   "cell_type": "code",
   "execution_count": null,
   "metadata": {},
   "outputs": [],
   "source": [
    "x=np.linspace(4,0,10,endpoint=False)\n",
    "y=np.linspace(4,0,10,endpoint=False)\n",
    "X,Y=np.meshgrid(x,y)\n",
    "U,V=f(X,Y)\n",
    "plt.quiver(X,Y,U,V,units='xy')"
   ]
  },
  {
   "cell_type": "code",
   "execution_count": null,
   "metadata": {},
   "outputs": [],
   "source": [
    "x=np.linspace(4,0,100,endpoint=False)\n",
    "y=np.linspace(4,0,100,endpoint=False)\n",
    "X,Y=np.meshgrid(x,y)\n",
    "U,V=f(X,Y)\n",
    "plt.streamplot(X, Y, U, V,density=2)"
   ]
  },
  {
   "cell_type": "markdown",
   "metadata": {},
   "source": [
    "On voit que les solutions de ce système sont plutôt __cycliques__."
   ]
  },
  {
   "cell_type": "markdown",
   "metadata": {},
   "source": [
    "### Question 3\n",
    "> Par le théorème de Cauchy-Lipschitz, démontrer que toute solution initialisée dans $(\\mathbb{R}_+^*)^2$ y reste sur son ensemble de définition."
   ]
  },
  {
   "cell_type": "markdown",
   "metadata": {},
   "source": [
    "$$\\begin{array}{cccc}\n",
    "    f : & I\\times\\mathbb{R}\\times\\mathbb{R} &\\to & \\mathbb{R}\\times\\mathbb{R}\\\\\n",
    "    & (t,x_1,x_2) &\\mapsto & \\big(x_1(\\alpha - \\beta x_2), -x_2(\\gamma - \\delta x_1)\\big)\n",
    "\\end{array}$$\n",
    "où $I$ est un intervalle de $\\mathbb{R}$ sur lequel sont définies les solutions.  \n",
    "Donc :\n",
    "$$\\forall t \\in I, \\partial_xf(t,x) = \\begin{pmatrix}\n",
    "    \\alpha - \\beta x_2 & -\\beta x_1\\\\\n",
    "    \\delta x_2 & \\delta x_1 - \\gamma\n",
    "\\end{pmatrix}$$\n",
    "On a bien que $\\partial_xf$ est continue sur $I\\times\\mathbb{R}^2$.\n",
    "\n",
    "Ainsi, __le théorème de Cauchy-Lipschitz s'applique__ :  \n",
    "Pour tout $(t_0,x_0) \\in I\\times\\mathbb{R}^2$, il existe une unique solution maximale $x \\in S_f(t_0,x_0)$."
   ]
  },
  {
   "cell_type": "markdown",
   "metadata": {
    "tags": []
   },
   "source": [
    "On applique cela dans quelques cas particuliers.\n",
    "\n",
    "1. On a vu que le point $(0, 0)$ est un point d'équilibre, donc la seule solution maximale passant par $(0, 0)$ est :\n",
    "$$\\forall t\\in I, x(t)=(0,0)$$\n",
    "Par conséquent, toute solution initialisée dans $(\\mathbb{R}_+^*)^2$ ne passe pas par $(0,0)$.\n",
    "\n",
    "2. Soit $r\\in\\mathbb{R}_+^*$.  \n",
    "Par Cauchy-Lipschitz, pour tout $t_0 \\in I$, il existe une unique solution maximale dans $S_f(t_0, r, 0)$, qui est :\n",
    "$$\\forall t \\in I, \\begin{cases}\n",
    "    x_1(t) = r \\exp\\big( \\alpha (t-t_0)\\big)\\\\\n",
    "    x_2(t) = 0\n",
    "\\end{cases}$$\n",
    "Ainsi, toute solution initialisée dans $(\\mathbb{R}_+^*)^2$ ne peut pas passer un point de $\\mathbb{R}\\times \\{0\\}$.\n",
    "\n",
    "3. On raisonne de la même manière pour les points de $\\{0\\} \\times \\mathbb{R}$."
   ]
  },
  {
   "cell_type": "markdown",
   "metadata": {},
   "source": [
    "Les solutions $x_1$ et $x_2$ sont continues.  \n",
    "Ainsi, si l'une prend une valeur négative pour $t\\in I$ en ayant été initialisée dans $\\mathbb{R}_+^*$, alors elle sera nécessairement passée par $0$. Cela est impossible d'après ce qui précède.\n",
    "\n",
    "Donc, __toute solution initialisée dans $(\\mathbb{R}_+^*)^2$ reste dans ce domaine sur son ensemble de défintion__."
   ]
  },
  {
   "cell_type": "markdown",
   "metadata": {},
   "source": [
    "### Question 4\n",
    "> On considère la fonction\n",
    "> $$H(x_1,x_2) = \\delta x_1 - \\gamma \\ln{x_1} + \\beta x_2 - \\alpha \\ln{x_2}$$\n",
    "> définie sur $(\\mathbb{R}_+^*)^2$.  \n",
    "> Calculer la dérivée de $H$ le long des solutions initialisées dans $(\\mathbb{R}_+^*)^2$. En déduire que toute solution maximale initialisée dans $(\\mathbb{R}_+^*)^2$ est définie sur $\\mathbb{R}$."
   ]
  },
  {
   "cell_type": "markdown",
   "metadata": {},
   "source": [
    "On a :\n",
    "$$\\begin{aligned}\n",
    "    \\forall (x_1,x_2) \\in (\\mathbb{R}_+^*)^2,\\quad \\dfrac{dH}{dt}(x_1,x_2) &= \\delta \\dot{x}_1 - \\dfrac{\\gamma \\dot{x}_1}{x_1} + \\beta \\dot{x}_1 - \\dfrac{\\alpha \\dot{x}_2}{x_2}\\\\\n",
    "    &= (\\delta x_1 - \\gamma)(\\alpha - \\beta x_2) + (\\alpha - \\beta x_2)(\\gamma - \\delta x_1)\\\\\n",
    "    &= 0\n",
    "\\end{aligned}$$\n",
    "\n",
    "Soit $x$ une solution maximale initialisée en $x_0 \\in (\\mathbb{R}_+^*)^2$.  \n",
    "Alors, d'après ce qui précède,\n",
    "$$\\forall t\\in I, H(x(t)) = H(x_0) = H_0$$\n",
    "On remarque que :\n",
    "$$H(x) \\underset{\\|x\\| \\to +\\infty}{\\longrightarrow} + \\infty$$\n",
    "Donc, par définition :\n",
    "$$\\begin{aligned}\n",
    "    &\\forall M >0, \\exists A >0, \\forall x \\in (\\mathbb{R}_+^*)^2, \\|x\\| \\geq A \\implies H(x) \\geq M\\\\\n",
    "    \\iff & \\forall M >0, \\exists A >0, \\forall x \\in (\\mathbb{R}_+^*)^2, H(x) <M \\implies \\|x\\| <A\n",
    "\\end{aligned}$$\n",
    "Par conséquent, comme l'ensemble $\\{H_0\\}$ est borné, $H^{-1}(\\{H_0\\}$ l'est aussi. Or,\n",
    "$$\\forall t\\in I, x(t) \\in H^{-1}(\\{H_0\\}$$\n",
    "Donc __$x$ est bornée, donc définie sur $\\mathbb{R}$ tout entier__ d'après le théorème du domaine maximal d'existence."
   ]
  },
  {
   "cell_type": "markdown",
   "metadata": {},
   "source": [
    "### Question 5\n",
    "> Représenter les courbes de niveau de $H$. Où se trouve $\\overline{x}$ ? Qu'en conclut-on sur le comportement des solutions ? En déduire (graphiquement) que $\\overline{x}$ est stable, au sens de la définition de stabilité."
   ]
  },
  {
   "cell_type": "code",
   "execution_count": null,
   "metadata": {},
   "outputs": [],
   "source": [
    "x=np.linspace(10,0,100,endpoint=False)\n",
    "y=np.linspace(10,0,100,endpoint=False)\n",
    "X,Y=np.meshgrid(x,y)\n",
    "plt.contourf(X,Y,H(X,Y),cmap=\"RdBu_r\",levels=10)\n",
    "contour =plt.contour(X,Y,H(X,Y),colors='k',levels=10,linewidths=0.3)\n",
    "plt.clabel(contour,fontsize=10,colors=('k'))"
   ]
  },
  {
   "cell_type": "markdown",
   "metadata": {},
   "source": [
    "Le point $\\overline{x}$ est un minimum de $H$, au centre des courbes de niveau.\n",
    "\n",
    "D'après la question précédente, les lignes de niveau de $H$ correspondent exactement aux solutions. Celles-ci ont donc un comportement périodique, tournant autour de $\\overline{x}$.\n",
    "\n",
    "Si l'on prend un $\\epsilon >0$ quelconque, il suffit d'initialiser sur une courbe de niveau de $H$ entièrement comprise dans le disque de centre $\\overline{x}$ et de rayon $\\epsilon$ pour que la solution y reste confinée.  \n",
    "Ainsi, __$\\overline{x}$ vérifie la définition de la stabilité__."
   ]
  },
  {
   "cell_type": "code",
   "execution_count": null,
   "metadata": {},
   "outputs": [],
   "source": [
    "def f_2(x):\n",
    "    x1=x[0]\n",
    "    x2=x[1]\n",
    "    return (np.array([x1*(alpha-beta*x2),-x2*(gamma-delta*x1)]))\n",
    "\n",
    "def H_2(x):\n",
    "    x1=x[0]\n",
    "    x2=x[1]\n",
    "    return delta*x1-gamma*np.log(x1)+beta*x2-alpha*np.log(x2)\n",
    "\n",
    "def grad_H(x):\n",
    "    x1=x[0]\n",
    "    x2=x[1]\n",
    "    return (np.array([delta-gamma/x1,beta-alpha/x2]))"
   ]
  },
  {
   "cell_type": "markdown",
   "metadata": {},
   "source": [
    "### Question 6 - Schéma d'Euler explicite non modifié"
   ]
  },
  {
   "cell_type": "code",
   "execution_count": null,
   "metadata": {},
   "outputs": [],
   "source": [
    "def solve_euler_explicit(f,x0,dt,t0,tf):\n",
    "    n=int((tf-t0)/dt)+1\n",
    "    t=np.linspace(t0,tf,n)\n",
    "    x=np.zeros([len(x0),n])\n",
    "    x[:,0]=x0\n",
    "    for i in range(n-1):\n",
    "        x[:,i+1]=x[:,i]+f(x[:,i])*dt\n",
    "    return t, x"
   ]
  },
  {
   "cell_type": "markdown",
   "metadata": {},
   "source": [
    "__Exemple__ : $\\overset{¨}{x} + x = 0$\n",
    "\n",
    "Cette équation peut se réécrire sous la forme :\n",
    "$$\\dot{X} = AX \\quad \\text{où } A = \\begin{pmatrix}\n",
    "    0 & 1 \\\\\n",
    "    -1 & 0\n",
    "\\end{pmatrix} \\text{ et } X = \\binom{x}{\\dot{x}}$$"
   ]
  },
  {
   "cell_type": "code",
   "execution_count": null,
   "metadata": {},
   "outputs": [],
   "source": [
    "def g(x):\n",
    "    A = np.array([[0.,1.],[-1., 0.]])\n",
    "    return A.dot(x)\n",
    "\n",
    "def sol_g(x):\n",
    "    return np.array([np.sin(x),np.cos(x)])\n",
    "\n",
    "x0 = np.array([1,0])\n",
    "\n",
    "fig = plt.figure(figsize=(10,4))\n",
    "ax1 = plt.subplot(121)\n",
    "ax2 = plt.subplot(122)\n",
    "\n",
    "t, x_f = solve_euler_explicit(g,x0,0.01,0,30)\n",
    "ax1.scatter(x_f[0,:], x_f[1,:], s=1)\n",
    "ax1.set_title(label=\"dt = 0.01\")\n",
    "\n",
    "t, x_f = solve_euler_explicit(g,x0,0.001,0,30)\n",
    "ax2.scatter(x_f[0,:], x_f[1,:], s=1)\n",
    "ax2.set_title(label=\"dt = 0.001\")"
   ]
  },
  {
   "cell_type": "code",
   "execution_count": null,
   "metadata": {
    "tags": []
   },
   "outputs": [],
   "source": [
    "pas_de_temps=np.array([1.e-5,1.e-4,1.e-3,1.e-2,1.e-1])\n",
    "def ordre_cv(f,x0,T,pas_de_temps,sol_exacte):\n",
    "    err=np.zeros(len(pas_de_temps))\n",
    "    i=0\n",
    "    for dt in pas_de_temps:\n",
    "        t, x_f = solve_euler_explicit(f,x0,dt,0,T)\n",
    "        err[i]=np.max(np.abs(x_f-sol_exacte(t)))\n",
    "        i=i+1\n",
    "    plt.xscale('log')\n",
    "    plt.yscale('log')\n",
    "    plt.title('Convergence du schéma explicite à un pas')\n",
    "    plt.xlabel('pas de temps')\n",
    "    plt.ylabel('erreur globale')\n",
    "    plt.scatter(pas_de_temps,err)\n",
    "    plt.plot(pas_de_temps,pas_de_temps,color='red',label='ordre 1')\n",
    "    plt.plot(pas_de_temps,pas_de_temps**2,color='green',label='ordre 2')\n",
    "    plt.legend()\n",
    "    return (err)\n",
    "x0 = np.array([0,1])\n",
    "ordre_cv(g,x0,10,pas_de_temps,sol_g)"
   ]
  },
  {
   "cell_type": "markdown",
   "metadata": {},
   "source": [
    "### Question 7\n",
    "> Utiliser le schéma d'Euler explicite pour simuler les équations de Lotka-Volterra. Que constate-t-on en temps long ? Cette résolution vous semble-t-elle fidèle à la réalité ? On pourra tracer l'évolution de la fonction H."
   ]
  },
  {
   "cell_type": "code",
   "execution_count": null,
   "metadata": {},
   "outputs": [],
   "source": [
    "x0=np.array([1,1])\n",
    "t,x_exp=solve_euler_explicit(f_2,x0,0.005,0,100)\n",
    "\n",
    "plt.scatter(x_exp[0,:],x_exp[1,:],s=1,c=\"red\")\n",
    "\n",
    "x=np.linspace(1.25,0,100,endpoint=False)\n",
    "y=np.linspace(2.5,0,100,endpoint=False)\n",
    "X,Y=np.meshgrid(x,y)\n",
    "U,V=f(X,Y)\n",
    "plt.streamplot(X, Y, U, V,density=2)"
   ]
  },
  {
   "cell_type": "markdown",
   "metadata": {},
   "source": [
    "Sur le temps long, on remarque que les points __s'écartent de plus en plus__ de la trajectoire définie par la solution théorique, et ce __vers l'extérieur des courbes de niveau__."
   ]
  },
  {
   "cell_type": "markdown",
   "metadata": {},
   "source": [
    "#### Visualisation de $H(x_{1},x_{2})$"
   ]
  },
  {
   "cell_type": "code",
   "execution_count": null,
   "metadata": {},
   "outputs": [],
   "source": [
    "plt.plot(t,H_2(x_exp))"
   ]
  },
  {
   "cell_type": "markdown",
   "metadata": {},
   "source": [
    "On remarque que $H$ n'est clairement __pas constante__ au cours du temps. Donc cette résolution est plutôt __peu fidèle__ à la réalité.  \n",
    "De plus, $H$ est ici __croissante__, ce qui correspond bien au fait que la solution numérique s'éloigne du point d'équilibre $\\overline{x}$."
   ]
  },
  {
   "cell_type": "markdown",
   "metadata": {},
   "source": [
    "### Question 8 - Schéma d'Euler implicite non modifié"
   ]
  },
  {
   "cell_type": "code",
   "execution_count": null,
   "metadata": {},
   "outputs": [],
   "source": [
    "def solve_euler_implicit(f,x0,dt,t0,tf):\n",
    "    n=int((tf-t0)/dt)+1\n",
    "    t=np.linspace(t0,tf,n)\n",
    "    x=np.zeros([len(x0),n])\n",
    "    x[:,0]=x0\n",
    "    for i in range(n-1):\n",
    "        def h(y):\n",
    "            return y-dt*f(y)-x[:,i]\n",
    "        \n",
    "        x[:,i+1]=optimize.fsolve(h,x[:,i],xtol=10**(-12))\n",
    "    return t,x"
   ]
  },
  {
   "cell_type": "markdown",
   "metadata": {},
   "source": [
    "On reprend l'exemple précédent. On a bien la convergence."
   ]
  },
  {
   "cell_type": "code",
   "execution_count": null,
   "metadata": {},
   "outputs": [],
   "source": [
    "x0 = np.array([1,0])\n",
    "\n",
    "fig = plt.figure(figsize=(10,4))\n",
    "ax1 = plt.subplot(121)\n",
    "ax2 = plt.subplot(122)\n",
    "\n",
    "t, x_f = solve_euler_implicit(g,x0,0.01,0,30)\n",
    "ax1.scatter(x_f[0,:], x_f[1,:], s=1)\n",
    "ax1.set_title(label=\"dt = 0.01\")\n",
    "\n",
    "t, x_f = solve_euler_implicit(g,x0,0.001,0,30)\n",
    "ax2.scatter(x_f[0,:], x_f[1,:], s=1)\n",
    "ax2.set_title(label=\"dt = 0.001\")"
   ]
  },
  {
   "cell_type": "markdown",
   "metadata": {},
   "source": [
    "#### Application sur les équations de Lotka-Volterra"
   ]
  },
  {
   "cell_type": "code",
   "execution_count": null,
   "metadata": {},
   "outputs": [],
   "source": [
    "x0=np.array([1,1])\n",
    "t,x_imp=solve_euler_implicit(f_2,x0,0.01,0,30)\n",
    "plt.scatter(x_imp[0,:],x_imp[1,:],s=1)"
   ]
  },
  {
   "cell_type": "markdown",
   "metadata": {},
   "source": [
    "$H(x_{1},x_{2})$"
   ]
  },
  {
   "cell_type": "code",
   "execution_count": null,
   "metadata": {},
   "outputs": [],
   "source": [
    "plt.plot(t,H_2(x_imp))"
   ]
  },
  {
   "cell_type": "markdown",
   "metadata": {},
   "source": [
    "Ici, on remarque que $H$ est __décroissante__, ce qui correspond bien à une solution numérique qui __se rapproche du point d'équilibre $\\overline{x}$__.\n",
    "\n",
    "De plus, sur une même période de temps, la fonction $H$ ne varie que de $0.1$ avec le schéma d'Euler implicite, contre $0.2$ avec le schéma d'Euler explicite."
   ]
  },
  {
   "cell_type": "markdown",
   "metadata": {},
   "source": [
    "### Question 9\n",
    "> Expliquer pourquoi les solutions de\n",
    "$$\\begin{cases}\n",
    "    \\dot{x}_1 = x_1 (\\alpha - \\beta x_2) - u_1(x_1,x_2)\\big( H(x_1,x_2) - H_0\\big)\\\\\n",
    "    \\dot{x}_2 = -x_2(\\gamma - \\delta x_1) - u_2(x_1,x_2)\\big( H(x_1,x_2) - H_0\\big)\n",
    "\\end{cases} \\quad (2)$$\n",
    "sont identiques à celles de Lotka-Volterra $(1)$ si $H_0 = H(x(0))$ pour tout choix de $u : \\mathbb{R}^2\\to\\mathbb{R}^2$ continûment différentiable."
   ]
  },
  {
   "cell_type": "markdown",
   "metadata": {},
   "source": [
    "Soit $u : \\mathbb{R}^2 \\to \\mathbb{R}^2$, une application $\\mathcal{C}^1$.\n",
    "\n",
    "Pour le système d'équations différentielles $(2)$, on a :\n",
    "$$\\dot{x} = f(x) - \\big( H(x)-H_0\\big) \\cdot u(x)$$\n",
    "\n",
    "Soit $x_0 \\in (\\mathbb{R}_+^*)^2$.\n",
    "Alors d'après Cauchy-Lipschitz, il existe une unique solution maximale (donc définie sur $\\mathbb{R}$ d'après la question 4) $x$ vérifiant les équations de Lotka-Volterra et $x(0) = x_0$.\n",
    "\n",
    "Selon la question 4, H(x) reste constant au cours du temps. Donc :\n",
    "$$\\forall t\\in\\mathbb{R}, H(x(t)) - H_0 = 0 \\quad \\text{avec } H_0 = H(x(0))$$\n",
    "Ainsi, $x$ vérifie le système d'équations $(2)$.\n",
    "\n",
    "De plus, $\\forall t \\in\\mathbb{R}, x(t) \\in (\\mathbb{R}_+^*)^2$ d'après la question 3, donc $H$ est $\\mathcal{C}^1$ selon $x$.  \n",
    "Comme $u$ l'est aussi, le théorème de Cauchy-Lipschitz s'applique aussi à ce système. $x$ est donc l'unique solution maximale de $(2)$ vérifiant $x(0) = x_0$.\n",
    "\n",
    "On a bien obtenu que, si $H_0 = H(x(0))$, alors __les solutions des deux systèmes d'équations différentielles sont identiques__."
   ]
  },
  {
   "cell_type": "markdown",
   "metadata": {},
   "source": [
    "### Question 10\n",
    "> Soit $H_0 \\in\\mathbb{R}$. Calculer la dérivée de $H-H_0$ le long des solutions de ce nouveau système. Montrer que l'on peut choisir $u$ tel que\n",
    "$$\\dfrac{d}{dt}\\big( H(x(t)) - H_0\\big) = -k \\|\\nabla H(x(t))\\|^2 \\big( H(x(t)) - H_0 \\big)$$\n",
    "En déduire qu'alors $H(x(t))$ converge exponentiellement vers $H_0$ lorsque $t$ tend vers l'infini si $x$ reste à une distance strictement positive de $\\overline{x}$."
   ]
  },
  {
   "cell_type": "markdown",
   "metadata": {},
   "source": [
    "$$\\begin{aligned}\n",
    "    \\dfrac{d}{dt}\\big( H(x(t))-H_0\\big) &= \\left( -\\delta u_1(x) + \\gamma\\frac{u_1(x)}{x_1} - \\beta u_2(x) + \\alpha\\frac{u_2(x)}{x_2} \\right) \\big( H(x) -H_0 \\big)\\\\\n",
    "    &= -\\big( H(x) - H_0\\big) \\left[ u_1(x)\\left( \\delta - \\frac{\\gamma}{x_1}\\right) + u_2(x)\\left( \\beta - \\frac{\\alpha}{x_2}\\right) \\right]\\\\\n",
    "    &= -\\big( H(x) - H_0\\big) \\left\\langle u(x), \\nabla H(x) \\right\\rangle\n",
    "\\end{aligned}$$\n",
    "\n",
    "Ainsi, si l'on prend $u$ tel que :\n",
    "$$u(x) = k\\cdot \\nabla H(x)$$\n",
    "On obtient bien :\n",
    "$$\\dfrac{d}{dt}\\big( H(x(t)) - H_0\\big) = -k \\|\\nabla H(x(t))\\|^2 \\big( H(x(t)) - H_0 \\big)$$"
   ]
  },
  {
   "cell_type": "markdown",
   "metadata": {},
   "source": [
    "On a :\n",
    "$$\\forall t\\in\\mathbb{R}, \\|\\nabla H(x(t))\\|^2 = \\delta^2 + \\beta^2 -2\\left( \\frac{\\gamma \\delta}{x_1(t)} + \\frac{\\alpha\\beta}{x_2(t)}\\right) + \\frac{\\gamma^2}{x_1(t)^2} + \\frac{\\alpha^2}{x_2(t)^2} \\geq 0$$\n",
    "Comme $x_1$ et $x_2$ sont bornés sur $\\mathbb{R}$, $\\|\\nabla H(x(t))\\|^2$ l'est aussi. Elle est de plus à valeurs positives. Donc ses primitives tendent vers $+\\infty$ lorsque $t\\to +\\infty$.\n",
    "\n",
    "Nous avons obtenu précédemment une équation différentielle du premier ordre vérifiée par $H(x) - H_0$.\n",
    "Soit $\\lambda : \\mathbb{R} \\to \\mathbb{R}$ une primitive de $\\|\\nabla H(x)\\|^2$.  \n",
    "Alors :\n",
    "$$\\forall t\\in\\mathbb{R}, H(x(t)) - H_0 = A \\exp(-k\\lambda(t))$$\n",
    "Comme $\\lambda(t) \\underset{t\\to +\\infty}{\\longrightarrow} +\\infty$, on a :\n",
    "$$H(x(t)) \\underset{t\\to +\\infty}{\\longrightarrow} H_0$$\n",
    "$H(x(t))$ tend bien __exponentiellement__ vers $H_0$ lorsque $t$ tend vers l'infini."
   ]
  },
  {
   "cell_type": "markdown",
   "metadata": {},
   "source": [
    "### Question 11\n",
    "> En déduire comment modifier l'implémentation du schéma d'Euler pour assurer la stabilité de $H$. Quel est le rôle de $k$ ? Peut-il être choisi arbitrairement grand ? Pourquoi ?"
   ]
  },
  {
   "cell_type": "markdown",
   "metadata": {},
   "source": [
    "#### Schéma d'Euler explicite modifié"
   ]
  },
  {
   "cell_type": "code",
   "execution_count": null,
   "metadata": {},
   "outputs": [],
   "source": [
    "x0=np.array([1,1])\n",
    "def solve_euler_explicit_new(f,x0,dt,t0,tf,k):\n",
    "    n=int((tf-t0)/dt)+1\n",
    "    t=np.linspace(t0,tf,n)\n",
    "    x=np.zeros([len(x0),n])\n",
    "    x[:,0]=x0\n",
    "    H0=H_2(x0)\n",
    "    for i in range(n-1):\n",
    "        x[:,i+1]=x[:,i]+f_2(x[:,i])*dt-k*grad_H(x[:,i])*(H_2(x[:,i])-H0)\n",
    "    return t, x"
   ]
  },
  {
   "cell_type": "markdown",
   "metadata": {},
   "source": [
    "##### Solution numérique"
   ]
  },
  {
   "cell_type": "code",
   "execution_count": null,
   "metadata": {},
   "outputs": [],
   "source": [
    "t,x_exp_new=solve_euler_explicit_new(f_2,x0,0.01,0,20,0.2)\n",
    "plt.scatter(x_exp_new[0,:],x_exp_new[1,:],s=1)"
   ]
  },
  {
   "cell_type": "markdown",
   "metadata": {},
   "source": [
    "$H(x_{1},x_{2})$"
   ]
  },
  {
   "cell_type": "code",
   "execution_count": null,
   "metadata": {},
   "outputs": [],
   "source": [
    "plt.plot(t,H_2(x_exp_new))"
   ]
  },
  {
   "cell_type": "markdown",
   "metadata": {},
   "source": [
    "#### Schéma d'Euler implicite modifié"
   ]
  },
  {
   "cell_type": "code",
   "execution_count": null,
   "metadata": {},
   "outputs": [],
   "source": [
    "x0=np.array([1,1])\n",
    "def solve_euler_implicit_new(f,x0,dt,t0,tf,k):\n",
    "    n=int((tf-t0)/dt)+1\n",
    "    t=np.linspace(t0,tf,n)\n",
    "    x=np.zeros([len(x0),n])\n",
    "    x[:,0]=x0\n",
    "    H0=H_2(x0)\n",
    "    for i in range(n-1):\n",
    "        def h(y):\n",
    "            return y-dt*f_2(y)-x[:,i]+k*grad_H(y)*(H_2(y)-H0)\n",
    "        \n",
    "        x[:,i+1]=optimize.fsolve(h,x[:,i],xtol=10**(-12))\n",
    "    return t,x"
   ]
  },
  {
   "cell_type": "markdown",
   "metadata": {},
   "source": [
    "##### Solution numérique"
   ]
  },
  {
   "cell_type": "code",
   "execution_count": null,
   "metadata": {},
   "outputs": [],
   "source": [
    "t,x_imp_new=solve_euler_implicit_new(f_2,x0,0.01,0,100,1)\n",
    "plt.scatter(x_imp_new[0,:],x_imp_new[1,:],s=1)"
   ]
  },
  {
   "cell_type": "markdown",
   "metadata": {},
   "source": [
    "$H(x_{1},x_{2})$"
   ]
  },
  {
   "cell_type": "code",
   "execution_count": null,
   "metadata": {},
   "outputs": [],
   "source": [
    "plt.plot(t,H_2(x_imp_new))"
   ]
  },
  {
   "cell_type": "markdown",
   "metadata": {},
   "source": [
    "On calcule pour $j\\in\\mathbb{N}$ d'après Taylor-Young :\n",
    "$$\\begin{aligned}\n",
    "    H(x_{j+1}) - H_0 &= \\big( H(x_j)-H_0 \\big) + \\dfrac{d}{dt}\\big( H(x(t)) - H_0 \\big) (x_j) \\cdot dt + o(dt)\\\\\n",
    "    &= \\big( H(x_j)-H_0 \\big) - k\\|\\nabla H(x_j)\\|^2 \\big( H(x_j) - H_0\\big) \\cdot dt + o(dt)\\\\\n",
    "    &= \\big( H(x_j) - H_0 \\big) \\left( 1 - k\\|\\nabla H(x_j)\\|^2 \\right) + o(dt)\n",
    "\\end{aligned}$$\n",
    "\n",
    "Ainsi, $k$ permet de __contrôler la distance__ entre $H(x(t))$ et $H_0$, afin qu'elle reste environ constante au cours du temps.  \n",
    "On ne peut donc pas le choisir trop grand, afin que le système ne soit pas trop sensible aux perturbations."
   ]
  }
 ],
 "metadata": {
  "kernelspec": {
   "display_name": "Python 3",
   "language": "python",
   "name": "python3"
  },
  "language_info": {
   "codemirror_mode": {
    "name": "ipython",
    "version": 3
   },
   "file_extension": ".py",
   "mimetype": "text/x-python",
   "name": "python",
   "nbconvert_exporter": "python",
   "pygments_lexer": "ipython3",
   "version": "3.8.3"
  }
 },
 "nbformat": 4,
 "nbformat_minor": 2
}
